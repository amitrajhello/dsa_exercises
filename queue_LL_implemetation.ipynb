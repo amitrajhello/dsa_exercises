{
  "cells": [
    {
      "cell_type": "code",
      "execution_count": null,
      "metadata": {
        "id": "PurBULUa-0Ud"
      },
      "outputs": [],
      "source": [
        "class Node:\n",
        "\n",
        "  def __init__(self,value):\n",
        "\n",
        "    self.data = value\n",
        "    self.next = None"
      ]
    },
    {
      "cell_type": "code",
      "execution_count": null,
      "metadata": {
        "id": "crm3gdWj_n8i"
      },
      "outputs": [],
      "source": [
        "class Queue:\n",
        "\n",
        "  def __init__(self):\n",
        "    self.front = None\n",
        "    self.rear = None\n",
        "\n",
        "  def enqueue(self,value):\n",
        "\n",
        "    new_node = Node(value)\n",
        "\n",
        "    if self.front == None:\n",
        "      self.front = new_node\n",
        "      self.rear = new_node\n",
        "\n",
        "    else:\n",
        "      self.rear.next = new_node\n",
        "      self.rear = new_node\n",
        "\n",
        "  def dequeue(self):\n",
        "\n",
        "    if self.front == None:\n",
        "      return \"Queue empty\"\n",
        "    else:\n",
        "      self.front = self.front.next\n",
        "\n",
        "  def is_empty(self):\n",
        "    return self.front == None\n",
        "\n",
        "  def front_item(self):\n",
        "    if (not self.is_empty()):\n",
        "      return self.front.data\n",
        "    else:\n",
        "      return \"Empty queue\"\n",
        "\n",
        "  def rear_item(self):\n",
        "    if (not self.is_empty()):\n",
        "      return self.rear.data\n",
        "    else:\n",
        "      return \"Empty queue\"\n",
        "    \n",
        "\n",
        "  def traverse(self):\n",
        "\n",
        "    temp = self.front\n",
        "\n",
        "    while temp is not None:\n",
        "      print(temp.data,end=' ')\n",
        "      temp = temp.next\n"
      ]
    },
    {
      "cell_type": "code",
      "execution_count": null,
      "metadata": {
        "id": "It7a1H5kBfbF"
      },
      "outputs": [],
      "source": [
        "q = Queue()"
      ]
    },
    {
      "cell_type": "code",
      "execution_count": null,
      "metadata": {
        "id": "tsInv6hyBhUn"
      },
      "outputs": [],
      "source": [
        "q.enqueue(3)\n",
        "q.enqueue(4)\n",
        "q.enqueue(5)\n",
        "q.enqueue(7)"
      ]
    },
    {
      "cell_type": "code",
      "execution_count": null,
      "metadata": {
        "id": "ImvsCMX5Bm7S"
      },
      "outputs": [],
      "source": [
        "q.traverse()"
      ]
    },
    {
      "cell_type": "code",
      "execution_count": null,
      "metadata": {
        "colab": {
          "base_uri": "https://localhost:8080/",
          "height": 35
        },
        "id": "cDKTXJyUBpD9",
        "outputId": "010edb40-1070-42ac-8763-6861ae825334"
      },
      "outputs": [
        {
          "data": {
            "application/vnd.google.colaboratory.intrinsic+json": {
              "type": "string"
            },
            "text/plain": [
              "'Queue empty'"
            ]
          },
          "execution_count": 36,
          "metadata": {
            "tags": []
          },
          "output_type": "execute_result"
        }
      ],
      "source": [
        "q.dequeue()"
      ]
    },
    {
      "cell_type": "code",
      "execution_count": null,
      "metadata": {
        "id": "w9ncP6MlB0KK"
      },
      "outputs": [],
      "source": [
        "q.enqueue(8)"
      ]
    },
    {
      "cell_type": "code",
      "execution_count": null,
      "metadata": {
        "colab": {
          "base_uri": "https://localhost:8080/"
        },
        "id": "p_WrD96IB4oa",
        "outputId": "c08f14c5-330b-4012-c27a-7a482d867ecb"
      },
      "outputs": [
        {
          "data": {
            "text/plain": [
              "False"
            ]
          },
          "execution_count": 48,
          "metadata": {
            "tags": []
          },
          "output_type": "execute_result"
        }
      ],
      "source": [
        "q.is_empty()"
      ]
    },
    {
      "cell_type": "code",
      "execution_count": null,
      "metadata": {
        "colab": {
          "base_uri": "https://localhost:8080/"
        },
        "id": "3HN0CH3IEI3K",
        "outputId": "631baeda-fe47-4cc8-9b20-6206152e9bcb"
      },
      "outputs": [
        {
          "data": {
            "text/plain": [
              "4"
            ]
          },
          "execution_count": 53,
          "metadata": {
            "tags": []
          },
          "output_type": "execute_result"
        }
      ],
      "source": [
        "q.front_item()"
      ]
    },
    {
      "cell_type": "code",
      "execution_count": null,
      "metadata": {
        "colab": {
          "base_uri": "https://localhost:8080/"
        },
        "id": "WxhnIMn6ELpY",
        "outputId": "54dbd4a1-5aa5-4e4d-f20a-4fbb3d11714f"
      },
      "outputs": [
        {
          "data": {
            "text/plain": [
              "7"
            ]
          },
          "execution_count": 52,
          "metadata": {
            "tags": []
          },
          "output_type": "execute_result"
        }
      ],
      "source": [
        "q.rear_item()"
      ]
    },
    {
      "cell_type": "code",
      "execution_count": null,
      "metadata": {
        "id": "yzG_VbWxEXcH"
      },
      "outputs": [],
      "source": [
        "q.dequeue()"
      ]
    },
    {
      "cell_type": "code",
      "execution_count": null,
      "metadata": {
        "id": "q7wOxuqpEgoD"
      },
      "outputs": [],
      "source": [
        "def check_balanced_parenthesis(s):\n",
        "    stk = Stack()\n",
        "    for item in s:\n",
        "        if item == '(':\n",
        "            stk.push(item)\n",
        "        elif item == '{':\n",
        "            stk.push(item)\n",
        "        elif item == '[':\n",
        "            stk.push(item)\n",
        "        elif item == ')':\n",
        "            if stk.peek() == '(':\n",
        "                stk.pop()\n",
        "            else:\n",
        "                return False\n",
        "        elif item == '}':\n",
        "            if stk.peek() == '{':\n",
        "                stk.pop()\n",
        "            else:\n",
        "                return False\n",
        "        elif item == ']':\n",
        "            if stk.peek() == '[':\n",
        "                stk.pop()\n",
        "            else:\n",
        "                return False\n",
        "        else:\n",
        "            continue\n",
        "            \n",
        "    return stk.is_empty()\n",
        "\n",
        "s=\"{[(a+b) + (c+d)]}\"\n",
        "print(check_balanced_parenthesis(s))\n"
      ]
    }
  ],
  "metadata": {
    "colab": {
      "provenance": []
    },
    "kernelspec": {
      "display_name": "Python 3",
      "language": "python",
      "name": "python3"
    },
    "language_info": {
      "name": "python",
      "version": "3.10.5"
    },
    "vscode": {
      "interpreter": {
        "hash": "26de051ba29f2982a8de78e945f0abaf191376122a1563185a90213a26c5da77"
      }
    }
  },
  "nbformat": 4,
  "nbformat_minor": 0
}
